{
 "cells": [
  {
   "cell_type": "markdown",
   "metadata": {},
   "source": [
    "# 5.3 Introduction to Statistics\n",
    "\n",
    "## Overview\n",
    "\n",
    "Today's class reviews summary statistics previously taught in Unit 1 and covers the implementation of these statistical measures in Python. This lesson also introduces new statistical concepts such as sample versus population, standard error, Pearson correlation coefficient, and linear regression.\n",
    "\n",
    "### Class Objectives\n",
    "\n",
    "By the end of this class, students will be able to:\n",
    "\n",
    "* Calculate summary statistics such as mean, median, mode, variance and standard deviation using Python.\n",
    "* Plot, characterize, and quantify a normally distributed dataset using Python.\n",
    "* Qualitatively and quantitatively identify potential outliers in a dataset.\n",
    "* Differentiate between a sample and a population in regards to a dataset.\n",
    "* Define and quantify correlation between two factors.\n",
    "* Calculate and plot a linear regression in Python."
   ]
  },
  {
   "cell_type": "markdown",
   "metadata": {},
   "source": [
    "# 1. Welcome & Intro Presentation\n",
    "\n",
    "## 📣 1.1 Instructor Do: Welcome Students\n",
    "\n",
    "\n",
    "  * Welcome to Day 3 of Matplotlib. Today's lesson will focus on bringing together our knowledge of fundamental statistics with Matplotlib and SciPy.\n"
   ]
  },
  {
   "cell_type": "markdown",
   "metadata": {},
   "source": [
    "## 📣 1.2 Instructor Do: Summary Statistics in Python\n",
    "\n",
    "  * The most common measures of central tendency are the **mean**, **median** and **mode**.\n",
    "\n",
    "  * The **mean** of a dataset is what is known as the arithmetic average of a dataset. It is calculated from the sum all of the numbers divided by the number of elements in a dataset.\n",
    "\n",
    "  * The **median** of a dataset is the middle element. It is calculated from listing the data numerically and selecting the middle element. For even-length datasets, the average of the 2 center elements is the median of the dataset.\n",
    "\n",
    "  * The **mode** of a dataset is the most frequently occurring element. The mode can be used for either numeric or categorical data.\n",
    "\n",
    "    ![Categorical Mode](Images/catagorical_mode.png)\n",
    "\n",
    "* With Python, there are a number of ways to measure the central tendency of the data. However, for this class we will be looking at the NumPy and SciPy packages and modules.\n",
    "\n",
    "  * We will use the NumPy package to test for `mean` and `median` and use the SciPy package to test for `mode`.\n",
    "\n",
    "  * The reason we need to use both NumPy and SciPy modules to calculate the measures of central tendency is that mode is not a function in NumPy. This is likely because NumPy is a very lightweight module and calculating the mode can be computationally intensive.\n",
    "\n",
    "* Pandas also provides functions to measure central tendency, but students will need to look at the documentation on their own.\n",
    "\n",
    "  * The reason we would want to plot new data as soon as possible is to identify key characteristics about the data.\n",
    "\n",
    "  * Key characteristics can include if the data is normally distributed, if the data is multimodal, or if there are clusters in the data.\n",
    "\n",
    "  * Data is considered normally distributed when measurements are obtained independent of one another.\n",
    "\n",
    "  * Another characteristic of normally distributed data is that its distribution follows a characteristic bell-curve shape.\n",
    "\n",
    "  * **Variance** is the measurement of how far each number in the dataset is away from the mean of the dataset.\n",
    "\n",
    "  * **Standard deviation** is the square root of the variance.\n",
    "\n",
    "  * When calculating the variance and standard deviation in Python, we will use the NumPy module.\n",
    "\n",
    "```python\n",
    "# Dependencies\n",
    "import pandas as pd\n",
    "import matplotlib.pyplot as plt\n",
    "import scipy.stats as sts\n",
    "import numpy as np\n",
    "\n",
    "# Read in the LAX temperature data\n",
    "temperature_df = pd.read_csv('Resources/lax_temperature.csv')\n",
    "temperatures = temperature_df['HourlyDryBulbTemperature']\n",
    "\n",
    "# Demonstrate calculating measures of central tendency\n",
    "mean_numpy = np.mean(temperatures)\n",
    "print(f\"The mean temperature at the LAX airport is {mean_numpy}\")\n",
    "\n",
    "median_numpy = np.median(temperatures)\n",
    "print(f\"The median temperature at the LAX airport is {median_numpy}\")\n",
    "\n",
    "mode_scipy = sts.mode(temperatures)\n",
    "print(f\"The mode temperature at the LAX airport is {mode_scipy}\")\n",
    "```\n",
    "\n",
    "* This first dataset contains National Oceanic and Atmospheric Administration temperature measurements taken at the Los Angeles International (LAX) airport.\n",
    "\n",
    "  * To calculate the mean, NumPy provides a decimal with far too much precision. Therefore we should always round the output of `numpy.mean`. In most cases, rounding the mean to the nearest hundredth decimal is sufficient.\n",
    "\n",
    "  * To calculate the median, NumPy also can provide a decimal with far too much precision. However, with this dataset, the median was already rounded.\n",
    "\n",
    "  * To calculate the mode, the `scipy.stats` module returns 2 arrays, one for all mode values, another for the frequency of each mode.\n",
    "\n",
    "* The easiest way to assert if a dataset has multiple modes, clusters of values, or if the dataset is normally distributed, is to plot the data using Matplotlib.\n",
    "\n",
    "```python\n",
    "# Characterize the data set using matplotlib and stats.normaltest\n",
    "plt.hist(temperatures)\n",
    "plt.xlabel('Temperature (°F)')\n",
    "plt.ylabel('Counts')\n",
    "plt.show()\n",
    "print(sts.normaltest(temperatures.sample(50)))\n",
    "```\n",
    "\n",
    "![the histogram of the temperature data appears normally distributed](Images/intro_norm_dist.png)\n",
    "\n",
    "* There only appears to be one mode in the dataset. Furthermore, the distribution of temperatures around the mode seems to form a bell curve.\n",
    "\n",
    "  * This bell-curve characteristic is known in statistics as a **normal distribution**.\n",
    "\n",
    "  * The theory behind a **normal distribution** is outside of the scope of this lesson, but it is important to know whether your data is normally distributed.\n",
    "\n",
    "* Many statistical tests assume that the data is normally distributed. Using such statistical tests when the data is _not_ normally distributed can cause us to draw incorrect conclusions.\n",
    "\n",
    "  * The `stats.normaltest` function offers a more quantitative verification of normal distribution.\n",
    "\n",
    "  * When we used `stats.normaltest` in our example code, we also used the Pandas `DataFrame.sample` function.\n",
    "\n",
    "  * Because `stats.normaltest` function assumes a relatively small sample size, we could not run the test on our entire temperature data. Therefore, we must test on a subset of randomly selected values using Pandas's `DataFrame.sample` function.\n",
    "\n",
    "  * We interpret the results of `stats.normaltest` using the **p** value. A **p** value 0.05 or larger indicates normally distributed data.\n",
    "\n",
    "  * Because our **p** value is approximately 0.05 or greater, we can conclude that this distribution is normal.\n",
    "\n",
    "```python\n",
    "# Demonstrate calculating the variance and standard deviation using the different modules\n",
    "var_numpy = np.var(temperatures,ddof = 0)\n",
    "print(f\"The population variance using the NumPy module is {var_numpy}\")\n",
    "\n",
    "sd_numpy = np.std(temperatures,ddof = 0)\n",
    "print(f\"The population standard deviation using the NumPy module is {sd_numpy}\")\n",
    "```\n",
    "\n",
    "* Point out that to calculate the total variance or standard deviation in NumPy, we must provide the list of numbers as well as `ddof =0`.\n",
    "\n",
    "  * The `ddof = 0` argument is to ensure we calculate the population variance and standard deviation.\n",
    "\n",
    "  * We will talk about sample versus population later in the class.\n",
    "\n",
    "* Execute the next code block.\n",
    "\n",
    "```python\n",
    "# Calculate the 68-95-99.7 rule using the standard deviation\n",
    "print(f\"Roughly 68% of the data is between {round(mean_numpy-sd_numpy,3)} and {round(mean_numpy+sd_numpy,3)}\")\n",
    "print(f\"Roughly 95% of the data is between {round(mean_numpy-2*sd_numpy,3)} and {round(mean_numpy+2*sd_numpy,3)}\")\n",
    "print(f\"Roughly 99.7% of the data is between {round(mean_numpy-3*sd_numpy,3)} and {round(mean_numpy+3*sd_numpy,3)}\")\n",
    "```\n",
    "\n",
    "* When we have a dataset that is normally distributed, we can use the **68-95-99.7** rule to characterize the data.\n",
    "\n",
    "  * The **68-95-99.7** rule states that roughly 68% of all values in normally distributed data fall within one standard deviation of the mean (in either direction). Additionally, 95% of the values fall within two standard deviations, and 99.7% of the values fall within three standard deviations.\n",
    "\n",
    "  * The z-score is the number of standard deviations a given number is from the mean of the dataset.\n",
    "\n",
    "  * To calculate a z-score in Python, we must use the SciPy `stats.zscore` function.\n",
    "\n",
    "```python\n",
    "# Demonstrate calculating the z-scores using SciPy\n",
    "z_scipy = sts.zscore(temperatures)\n",
    "print(f\"The z-scores using the SciPy module are {z_scipy}\")\n",
    "```\n",
    "\n",
    "* The output of `stats.zscore` is a list of z-scores that is equal in length to the list of temperatures. Therefore, if we want to know the z-score for any given value, we must find use index of that value from the temperature list.\n"
   ]
  },
  {
   "cell_type": "code",
   "execution_count": 1,
   "metadata": {},
   "outputs": [],
   "source": [
    "# Dependencies\n",
    "import pandas as pd\n",
    "import matplotlib.pyplot as plt\n",
    "import scipy.stats as sts\n",
    "import numpy as np"
   ]
  },
  {
   "cell_type": "code",
   "execution_count": 2,
   "metadata": {},
   "outputs": [],
   "source": [
    "# Read in the LAX temperature data\n",
    "temperature_df = pd.read_csv('Resources/lax_temperature.csv')\n",
    "temperatures = temperature_df['HourlyDryBulbTemperature']"
   ]
  },
  {
   "cell_type": "code",
   "execution_count": 4,
   "metadata": {},
   "outputs": [
    {
     "data": {
      "text/plain": [
       "(3529, 4)"
      ]
     },
     "execution_count": 4,
     "metadata": {},
     "output_type": "execute_result"
    }
   ],
   "source": [
    "temperature_df.shape"
   ]
  },
  {
   "cell_type": "code",
   "execution_count": 5,
   "metadata": {},
   "outputs": [
    {
     "data": {
      "text/html": [
       "<div>\n",
       "<style scoped>\n",
       "    .dataframe tbody tr th:only-of-type {\n",
       "        vertical-align: middle;\n",
       "    }\n",
       "\n",
       "    .dataframe tbody tr th {\n",
       "        vertical-align: top;\n",
       "    }\n",
       "\n",
       "    .dataframe thead th {\n",
       "        text-align: right;\n",
       "    }\n",
       "</style>\n",
       "<table border=\"1\" class=\"dataframe\">\n",
       "  <thead>\n",
       "    <tr style=\"text-align: right;\">\n",
       "      <th></th>\n",
       "      <th>STATION</th>\n",
       "      <th>DATE</th>\n",
       "      <th>REPORT_TYPE</th>\n",
       "      <th>HourlyDryBulbTemperature</th>\n",
       "    </tr>\n",
       "  </thead>\n",
       "  <tbody>\n",
       "    <tr>\n",
       "      <th>0</th>\n",
       "      <td>72295023174</td>\n",
       "      <td>2019-01-01T00:49:00</td>\n",
       "      <td>FM-16</td>\n",
       "      <td>52</td>\n",
       "    </tr>\n",
       "    <tr>\n",
       "      <th>1</th>\n",
       "      <td>72295023174</td>\n",
       "      <td>2019-01-01T00:53:00</td>\n",
       "      <td>FM-15</td>\n",
       "      <td>51</td>\n",
       "    </tr>\n",
       "    <tr>\n",
       "      <th>2</th>\n",
       "      <td>72295023174</td>\n",
       "      <td>2019-01-01T01:53:00</td>\n",
       "      <td>FM-15</td>\n",
       "      <td>52</td>\n",
       "    </tr>\n",
       "    <tr>\n",
       "      <th>3</th>\n",
       "      <td>72295023174</td>\n",
       "      <td>2019-01-01T02:53:00</td>\n",
       "      <td>FM-15</td>\n",
       "      <td>49</td>\n",
       "    </tr>\n",
       "    <tr>\n",
       "      <th>4</th>\n",
       "      <td>72295023174</td>\n",
       "      <td>2019-01-01T03:53:00</td>\n",
       "      <td>FM-15</td>\n",
       "      <td>43</td>\n",
       "    </tr>\n",
       "  </tbody>\n",
       "</table>\n",
       "</div>"
      ],
      "text/plain": [
       "       STATION                 DATE REPORT_TYPE  HourlyDryBulbTemperature\n",
       "0  72295023174  2019-01-01T00:49:00       FM-16                        52\n",
       "1  72295023174  2019-01-01T00:53:00       FM-15                        51\n",
       "2  72295023174  2019-01-01T01:53:00       FM-15                        52\n",
       "3  72295023174  2019-01-01T02:53:00       FM-15                        49\n",
       "4  72295023174  2019-01-01T03:53:00       FM-15                        43"
      ]
     },
     "execution_count": 5,
     "metadata": {},
     "output_type": "execute_result"
    }
   ],
   "source": [
    "temperature_df.head()"
   ]
  },
  {
   "cell_type": "code",
   "execution_count": 6,
   "metadata": {},
   "outputs": [
    {
     "name": "stdout",
     "output_type": "stream",
     "text": [
      "The mean temperature at the LAX airport is 57.65514310002834\n",
      "The median temperature at the LAX airport is 57.0\n",
      "The mode temperature at the LAX airport is ModeResult(mode=array([57], dtype=int64), count=array([327]))\n"
     ]
    }
   ],
   "source": [
    "# Demonstrate calculating measures of central tendency\n",
    "mean_numpy = np.mean(temperatures)\n",
    "print(f\"The mean temperature at the LAX airport is {mean_numpy}\")\n",
    "\n",
    "median_numpy = np.median(temperatures)\n",
    "print(f\"The median temperature at the LAX airport is {median_numpy}\")\n",
    "\n",
    "mode_scipy = sts.mode(temperatures)\n",
    "print(f\"The mode temperature at the LAX airport is {mode_scipy}\")"
   ]
  },
  {
   "cell_type": "code",
   "execution_count": 7,
   "metadata": {},
   "outputs": [
    {
     "data": {
      "image/png": "[encoded data removed]",
      "text/plain": [
       "<Figure size 432x288 with 1 Axes>"
      ]
     },
     "metadata": {
      "needs_background": "light"
     },
     "output_type": "display_data"
    },
    {
     "name": "stdout",
     "output_type": "stream",
     "text": [
      "NormaltestResult(statistic=0.9680950118367873, pvalue=0.6162839240830551)\n"
     ]
    }
   ],
   "source": [
    "# Characterize the data set using matplotlib and stats.normaltest\n",
    "plt.hist(temperatures)\n",
    "plt.xlabel('Temperature (°F)')\n",
    "plt.ylabel('Counts')\n",
    "plt.show()\n",
    "print(sts.normaltest(temperatures.sample(50)))"
   ]
  },
  {
   "cell_type": "code",
   "execution_count": 8,
   "metadata": {},
   "outputs": [
    {
     "name": "stdout",
     "output_type": "stream",
     "text": [
      "The population variance using the NumPy module is 32.33077618382964\n",
      "The population standard deviation using the NumPy module is 5.686015844493369\n"
     ]
    }
   ],
   "source": [
    "# Demonstrate calculating the variance and standard deviation using the different modules\n",
    "var_numpy = np.var(temperatures,ddof = 0)\n",
    "print(f\"The population variance using the NumPy module is {var_numpy}\")\n",
    "\n",
    "sd_numpy = np.std(temperatures,ddof = 0)\n",
    "print(f\"The population standard deviation using the NumPy module is {sd_numpy}\")"
   ]
  },
  {
   "cell_type": "code",
   "execution_count": 9,
   "metadata": {},
   "outputs": [
    {
     "name": "stdout",
     "output_type": "stream",
     "text": [
      "Roughly 68% of the data is between 51.969 and 63.341\n",
      "Roughly 95% of the data is between 46.283 and 69.027\n",
      "Roughly 99.7% of the data is between 40.597 and 74.713\n"
     ]
    }
   ],
   "source": [
    "# Calculate the 68-95-99.7 rule using the standard deviation\n",
    "print(f\"Roughly 68% of the data is between {round(mean_numpy-sd_numpy,3)} and {round(mean_numpy+sd_numpy,3)}\")\n",
    "print(f\"Roughly 95% of the data is between {round(mean_numpy-2*sd_numpy,3)} and {round(mean_numpy+2*sd_numpy,3)}\")\n",
    "print(f\"Roughly 99.7% of the data is between {round(mean_numpy-3*sd_numpy,3)} and {round(mean_numpy+3*sd_numpy,3)}\")"
   ]
  },
  {
   "cell_type": "code",
   "execution_count": 10,
   "metadata": {
    "scrolled": true
   },
   "outputs": [
    {
     "name": "stdout",
     "output_type": "stream",
     "text": [
      "The z-scores using the SciPy module are [-0.99457041 -1.17044048 -0.99457041 ...  0.06065001  0.06065001\n",
      "  0.06065001]\n"
     ]
    }
   ],
   "source": [
    "# Demonstrate calculating the z-scores using SciPy\n",
    "z_scipy = sts.zscore(temperatures)\n",
    "print(f\"The z-scores using the SciPy module are {z_scipy}\")"
   ]
  },
  {
   "cell_type": "code",
   "execution_count": null,
   "metadata": {},
   "outputs": [],
   "source": []
  },
  {
   "cell_type": "code",
   "execution_count": null,
   "metadata": {},
   "outputs": [],
   "source": []
  },
  {
   "cell_type": "markdown",
   "metadata": {},
   "source": [
    "## 📣 1.3 Instructor Do: Quantiles and Outliers in Python\n",
    "\n",
    "  * **Quantiles** are a way to divide our data into well-defined regions based on their order in a ranked list. The 2 most common quantiles used are **quartiles** and **percentiles**.\n",
    "\n",
    "  * **Quartiles** divide the sorted data into 4 equal-sized groups and the median is known as the second quartile.\n",
    "\n",
    "  * An **outlier** is an extreme value in a dataset that can skew a dataset. An **outlier** is typically identified as a value that is 1.5 * IQR (**interquartile range**) beyond the first and third quartiles.\n",
    "\n",
    "  * We can visually identify quartiles and outliers using a box and whisker plot. Alternatively, we can identify quartiles using the `1.5 * IQR` rule.\n",
    "\n",
    "  * When datasets are too large to identify the outliers visually, or when analysis requires more quantitative measures, we should calculate the interquartile range manually using Python modules.\n",
    "\n",
    "* Execute the first 2 blocks of code.\n",
    "\n",
    "```python\n",
    "# Dependencies\n",
    "import pandas as pd\n",
    "import numpy as np\n",
    "import matplotlib.pyplot as plt\n",
    "\n",
    "# Example outlier plot of reaction times\n",
    "times = [96,98,100,105,85,88,95,100,101,102,97,98,5]\n",
    "fig1, ax1 = plt.subplots()\n",
    "ax1.set_title('Reaction Times at Baseball Batting Cage')\n",
    "ax1.set_ylabel('Reaction Time (ms)')\n",
    "ax1.boxplot(times)\n",
    "plt.show()\n",
    "```\n",
    "\n",
    "![reaction times boxplot](Images/outlier_batting.png)\n",
    "\n",
    "* This first dataset is a theoretical collection of reaction times measured at a baseball batting cage.\n",
    "\n",
    "* A box and whisker plot is widely used in data science due to the amount of information it provides at-a-glance.\n",
    "\n",
    "  * We render a box and whisker plot in Matplotlib using the `pyplot.boxplot` function.\n",
    "\n",
    "  * The `pyplot.boxplot` function simply requires a list of numbers to draw.\n",
    "\n",
    "  * The red line in the box plot is the median of the data.\n",
    "\n",
    "  * The box surrounding the median is the IQR.\n",
    "\n",
    "  * The whiskers that protrude from the box in the plot can be modified depending on the use, but by default represent 1.5 * IQR, or the outlier boundaries.\n",
    "\n",
    "  * The data points that are located beyond the whiskers in the plot are potential outliers.\n",
    "\n",
    "  * In this dataset, the 2 smallest data points appear to be outliers.\n",
    "\n",
    "![the annotated boxplot](Images/outlier_boxplot_annot.png)\n",
    "\n",
    "* Execute the next block of code.\n",
    "\n",
    "```python\n",
    "# We need to sort the data to determine which could be outliers\n",
    "times.sort()\n",
    "print(times)\n",
    "```\n",
    "* Once we have identified potential outliers in a box and whisker plot, we can use the sorted dataset to estimate which of the data points fall outside the outlier boundary.\n",
    "\n",
    "* Point out that the 5 ms and 85 ms times are outside of the whiskers and may merit investigation.\n",
    "\n",
    "* Execute the next block of code.\n",
    "\n",
    "```python\n",
    "# The second example again looks at the LAX temperature data set and computes quantiles\n",
    "temperature_df = pd.read_csv('../Resources/lax_temperature.csv')\n",
    "temperatures = temperature_df['HourlyDryBulbTemperature']\n",
    "\n",
    "fig1, ax1 = plt.subplots()\n",
    "ax1.set_title('Temperatures at LAX')\n",
    "ax1.set_ylabel('Temperature (°F)')\n",
    "ax1.boxplot(temperatures)\n",
    "plt.show()\n",
    "```\n",
    "\n",
    "![The LAX temperatures have too many data points to identify outliers](Images/outliers_temperatures.png)\n",
    "\n",
    "* This example is looking back at the LAX temperatures from NOAA.\n",
    "\n",
    "  * This dataset has over 3,000 data points and we already know it to be normally distributed.\n",
    "\n",
    "  * When we know a dataset is normally distributed, we can expect at least a few data points to be potential outliers.\n",
    "\n",
    "* We can also identify potential outliers using Pandas.\n",
    "\n",
    "* We can use Pandas to easily calculate the interquartile range to generate the outlier boundaries.\n",
    "\n",
    "* Execute the next block of code.\n",
    "\n",
    "```python\n",
    "# If the data is in a dataframe, we use pandas to give quartile calculations\n",
    "quartiles = temperatures.quantile([.25,.5,.75])\n",
    "lowerq = quartiles[0.25]\n",
    "upperq = quartiles[0.75]\n",
    "iqr = upperq-lowerq\n",
    "\n",
    "print(f\"The lower quartile of temperatures is: {lowerq}\")\n",
    "print(f\"The upper quartile of temperatures is: {upperq}\")\n",
    "print(f\"The interquartile range of temperatures is: {iqr}\")\n",
    "print(f\"The the median of temperatures is: {quartiles[0.5]} \")\n",
    "\n",
    "lower_bound = lowerq - (1.5*iqr)\n",
    "upper_bound = upperq + (1.5*iqr)\n",
    "print(f\"Values below {lower_bound} could be outliers.\")\n",
    "print(f\"Values above {upper_bound} could be outliers.\")\n",
    "```\n",
    "\n",
    "* In order to properly calculate the lower and upper quartiles of a dataset we would need to calculate the median of our dataset. Once we split our data into two groups using the median, we would then need to find the median of the lower and upper groups to determine the quartiles.\n",
    "\n",
    "* A very common practice in data science is to approximate the median-of-a-median quartile values by using prebuilt quantile functions such as Pandas's `quantile` method.\n",
    "\n",
    "* Pandas's `quantile` method requires decimal values between 0 and 1. In addition you must pass the quantile as the index instead of relative index values.\n",
    "\n",
    "```python\n",
    "# You cannot pass a 0 index to retrieve the first element,\n",
    "# it requires the actual value of 0.25\n",
    "lowerq = quartiles[0.25]\n",
    "```\n",
    "\n",
    "* Once you have calculated the IQR, you can create the boundaries to quantitatively determine any potential outliers.\n",
    "\n",
    "* Slack out the solution notebook for students to refer to in the next activity."
   ]
  },
  {
   "cell_type": "code",
   "execution_count": 11,
   "metadata": {},
   "outputs": [],
   "source": [
    "# Dependencies\n",
    "import pandas as pd\n",
    "import numpy as np\n",
    "import matplotlib.pyplot as plt"
   ]
  },
  {
   "cell_type": "code",
   "execution_count": 12,
   "metadata": {},
   "outputs": [
    {
     "data": {
      "image/png": "[encoded data removed]",
      "text/plain": [
       "<Figure size 432x288 with 1 Axes>"
      ]
     },
     "metadata": {
      "needs_background": "light"
     },
     "output_type": "display_data"
    }
   ],
   "source": [
    "# Example outlier plot of reaction times\n",
    "times = [96,98,100,105,85,88,95,100,101,102,97,98,5]\n",
    "fig1, ax1 = plt.subplots()\n",
    "ax1.set_title('Reaction Times at Baseball Batting Cage')\n",
    "ax1.set_ylabel('Reaction Time (ms)')\n",
    "ax1.boxplot(times)\n",
    "plt.show()"
   ]
  },
  {
   "cell_type": "code",
   "execution_count": 13,
   "metadata": {},
   "outputs": [
    {
     "name": "stdout",
     "output_type": "stream",
     "text": [
      "[5, 85, 88, 95, 96, 97, 98, 98, 100, 100, 101, 102, 105]\n"
     ]
    }
   ],
   "source": [
    "# We need to sort the data to determine which could be outliers\n",
    "times.sort()\n",
    "print(times)"
   ]
  },
  {
   "cell_type": "code",
   "execution_count": 14,
   "metadata": {},
   "outputs": [
    {
     "data": {
      "image/png": "[encoded data removed]",
      "text/plain": [
       "<Figure size 432x288 with 1 Axes>"
      ]
     },
     "metadata": {
      "needs_background": "light"
     },
     "output_type": "display_data"
    }
   ],
   "source": [
    "# The second example again looks at the LAX temperature data set and computes quantiles\n",
    "temperature_df = pd.read_csv('Resources/lax_temperature.csv')\n",
    "temperatures = temperature_df['HourlyDryBulbTemperature']\n",
    "\n",
    "fig1, ax1 = plt.subplots()\n",
    "ax1.set_title('Temperatures at LAX')\n",
    "ax1.set_ylabel('Temperature (°F)')\n",
    "ax1.boxplot(temperatures)\n",
    "plt.show()"
   ]
  },
  {
   "cell_type": "code",
   "execution_count": 15,
   "metadata": {
    "scrolled": true
   },
   "outputs": [
    {
     "name": "stdout",
     "output_type": "stream",
     "text": [
      "The lower quartile of temperatures is: 54.0\n",
      "The upper quartile of temperatures is: 60.0\n",
      "The interquartile range of temperatures is: 6.0\n",
      "The the median of temperatures is: 57.0 \n",
      "Values below 45.0 could be outliers.\n",
      "Values above 69.0 could be outliers.\n"
     ]
    }
   ],
   "source": [
    "# If the data is in a dataframe, we use pandas to give quartile calculations\n",
    "quartiles = temperatures.quantile([.25,.5,.75])\n",
    "lowerq = quartiles[0.25]\n",
    "upperq = quartiles[0.75]\n",
    "iqr = upperq-lowerq\n",
    "\n",
    "print(f\"The lower quartile of temperatures is: {lowerq}\")\n",
    "print(f\"The upper quartile of temperatures is: {upperq}\")\n",
    "print(f\"The interquartile range of temperatures is: {iqr}\")\n",
    "print(f\"The the median of temperatures is: {quartiles[0.5]} \")\n",
    "\n",
    "lower_bound = lowerq - (1.5*iqr)\n",
    "upper_bound = upperq + (1.5*iqr)\n",
    "print(f\"Values below {lower_bound} could be outliers.\")\n",
    "print(f\"Values above {upper_bound} could be outliers.\")"
   ]
  },
  {
   "cell_type": "code",
   "execution_count": null,
   "metadata": {},
   "outputs": [],
   "source": []
  },
  {
   "cell_type": "code",
   "execution_count": null,
   "metadata": {},
   "outputs": [],
   "source": []
  },
  {
   "cell_type": "markdown",
   "metadata": {},
   "source": [
    "## ✏️ 2.1 Student Do: Summary Statistics in Python\n",
    "\n",
    "# Summary Statistics in Python\n",
    "\n",
    "## Instructions\n",
    "\n",
    "* Using Pandas, import the California housing dataset from the Resources folder.\n",
    "\n",
    "* Determine the most appropriate measure of central tendency to describe the population. Calculate this value.\n",
    "\n",
    "* Use both data visualization and a quantitative measurement to find whether the age of houses in California is considered normally distributed.\n",
    "\n",
    "* Inspect the average occupancy of housing in California and determine if there are any potential outliers in the dataset.\n",
    "\n",
    "  * **Hint**: This dataset is very large.\n",
    "\n",
    "* If there are potential outliers in the average occupancy, find the minimum and maximum of the median housing prices across the outliers.\n",
    "\n",
    "## Bonus\n",
    "\n",
    "Plot the latitude and longitude of the California housing data using Matplotlib and color the data points using the median income of the block. Does any location seem to be an outlier?\n",
    "\n",
    "- - -"
   ]
  },
  {
   "cell_type": "code",
   "execution_count": null,
   "metadata": {},
   "outputs": [],
   "source": [
    "# Dependencies\n",
    "import pandas as pd\n",
    "import matplotlib.pyplot as plt\n",
    "import scipy.stats as sts"
   ]
  },
  {
   "cell_type": "code",
   "execution_count": 17,
   "metadata": {},
   "outputs": [],
   "source": [
    "# Read in the california housing data set\n",
    "california_df = pd.read_csv(\"Resources/California_Housing.csv\")"
   ]
  },
  {
   "cell_type": "code",
   "execution_count": 30,
   "metadata": {},
   "outputs": [
    {
     "data": {
      "image/png": "[encoded data removed]",
      "text/plain": [
       "<Figure size 432x288 with 1 Axes>"
      ]
     },
     "metadata": {
      "needs_background": "light"
     },
     "output_type": "display_data"
    },
    {
     "name": "stdout",
     "output_type": "stream",
     "text": [
      "1387.9633333333334\n",
      "1152.5\n",
      "ModeResult(mode=array([1128.]), count=array([8]))\n"
     ]
    }
   ],
   "source": [
    "# Determine which measure of central tendency is most appropriate to describe the Population\n",
    "population = california_df['Population']\n",
    "plt.hist(population)\n",
    "plt.show()\n",
    "print(np.mean(population))\n",
    "print(np.median(population))\n",
    "print(sts.mode(population))"
   ]
  },
  {
   "cell_type": "code",
   "execution_count": 31,
   "metadata": {},
   "outputs": [
    {
     "data": {
      "text/plain": [
       "NormaltestResult(statistic=6.126927002096717, pvalue=0.04672558054267481)"
      ]
     },
     "execution_count": 31,
     "metadata": {},
     "output_type": "execute_result"
    }
   ],
   "source": [
    "# Determine if the house age in California is considered normally distributed\n",
    "#california_df.head(5)\n",
    "house_age= california_df['HouseAge']\n",
    "sts.normaltest(house_age.sample(100))"
   ]
  },
  {
   "cell_type": "code",
   "execution_count": 21,
   "metadata": {},
   "outputs": [
    {
     "data": {
      "text/html": [
       "<div>\n",
       "<style scoped>\n",
       "    .dataframe tbody tr th:only-of-type {\n",
       "        vertical-align: middle;\n",
       "    }\n",
       "\n",
       "    .dataframe tbody tr th {\n",
       "        vertical-align: top;\n",
       "    }\n",
       "\n",
       "    .dataframe thead th {\n",
       "        text-align: right;\n",
       "    }\n",
       "</style>\n",
       "<table border=\"1\" class=\"dataframe\">\n",
       "  <thead>\n",
       "    <tr style=\"text-align: right;\">\n",
       "      <th></th>\n",
       "      <th>MedInc</th>\n",
       "      <th>HouseAge</th>\n",
       "      <th>AveRooms</th>\n",
       "      <th>AveBedrms</th>\n",
       "      <th>Population</th>\n",
       "      <th>AveOccup</th>\n",
       "      <th>Latitude</th>\n",
       "      <th>Longitude</th>\n",
       "    </tr>\n",
       "  </thead>\n",
       "  <tbody>\n",
       "    <tr>\n",
       "      <th>0</th>\n",
       "      <td>5.2742</td>\n",
       "      <td>17.0</td>\n",
       "      <td>8.908654</td>\n",
       "      <td>1.884615</td>\n",
       "      <td>351.0</td>\n",
       "      <td>1.687500</td>\n",
       "      <td>32.98</td>\n",
       "      <td>-117.27</td>\n",
       "    </tr>\n",
       "    <tr>\n",
       "      <th>1</th>\n",
       "      <td>1.8438</td>\n",
       "      <td>52.0</td>\n",
       "      <td>3.069847</td>\n",
       "      <td>1.044293</td>\n",
       "      <td>2382.0</td>\n",
       "      <td>4.057922</td>\n",
       "      <td>34.07</td>\n",
       "      <td>-118.26</td>\n",
       "    </tr>\n",
       "    <tr>\n",
       "      <th>2</th>\n",
       "      <td>7.0691</td>\n",
       "      <td>13.0</td>\n",
       "      <td>6.689697</td>\n",
       "      <td>1.009697</td>\n",
       "      <td>2444.0</td>\n",
       "      <td>2.962424</td>\n",
       "      <td>37.57</td>\n",
       "      <td>-121.87</td>\n",
       "    </tr>\n",
       "    <tr>\n",
       "      <th>3</th>\n",
       "      <td>5.4719</td>\n",
       "      <td>38.0</td>\n",
       "      <td>5.890080</td>\n",
       "      <td>0.957105</td>\n",
       "      <td>1228.0</td>\n",
       "      <td>3.292225</td>\n",
       "      <td>37.52</td>\n",
       "      <td>-122.28</td>\n",
       "    </tr>\n",
       "    <tr>\n",
       "      <th>4</th>\n",
       "      <td>4.0156</td>\n",
       "      <td>35.0</td>\n",
       "      <td>6.195312</td>\n",
       "      <td>1.171875</td>\n",
       "      <td>669.0</td>\n",
       "      <td>5.226562</td>\n",
       "      <td>33.93</td>\n",
       "      <td>-117.41</td>\n",
       "    </tr>\n",
       "  </tbody>\n",
       "</table>\n",
       "</div>"
      ],
      "text/plain": [
       "   MedInc  HouseAge  AveRooms  AveBedrms  Population  AveOccup  Latitude  \\\n",
       "0  5.2742      17.0  8.908654   1.884615       351.0  1.687500     32.98   \n",
       "1  1.8438      52.0  3.069847   1.044293      2382.0  4.057922     34.07   \n",
       "2  7.0691      13.0  6.689697   1.009697      2444.0  2.962424     37.57   \n",
       "3  5.4719      38.0  5.890080   0.957105      1228.0  3.292225     37.52   \n",
       "4  4.0156      35.0  6.195312   1.171875       669.0  5.226562     33.93   \n",
       "\n",
       "   Longitude  \n",
       "0    -117.27  \n",
       "1    -118.26  \n",
       "2    -121.87  \n",
       "3    -122.28  \n",
       "4    -117.41  "
      ]
     },
     "execution_count": 21,
     "metadata": {},
     "output_type": "execute_result"
    }
   ],
   "source": [
    "california_df.head()"
   ]
  },
  {
   "cell_type": "code",
   "execution_count": 22,
   "metadata": {
    "scrolled": true
   },
   "outputs": [
    {
     "data": {
      "image/png": "[encoded data removed]",
      "text/plain": [
       "<Figure size 432x288 with 1 Axes>"
      ]
     },
     "metadata": {
      "needs_background": "light"
     },
     "output_type": "display_data"
    }
   ],
   "source": [
    "# Determine if there are any potential outliers in the average occupancy in California\n",
    "average_occup = california_df['AveOccup']\n",
    "fig1, ax1 = plt.subplots()\n",
    "ax1.boxplot(average_occup)\n",
    "plt.show()"
   ]
  },
  {
   "cell_type": "code",
   "execution_count": 32,
   "metadata": {},
   "outputs": [
    {
     "data": {
      "text/plain": [
       "9.172869733470364"
      ]
     },
     "execution_count": 32,
     "metadata": {},
     "output_type": "execute_result"
    }
   ],
   "source": [
    "np.std(average_occup)"
   ]
  },
  {
   "cell_type": "code",
   "execution_count": 24,
   "metadata": {},
   "outputs": [
    {
     "data": {
      "text/plain": [
       "array([  1.06060606,   1.28060264,   1.31604343, ...,  17.17770035,\n",
       "        21.33333333, 502.46153846])"
      ]
     },
     "execution_count": 24,
     "metadata": {},
     "output_type": "execute_result"
    }
   ],
   "source": [
    "np.sort(average_occup)"
   ]
  },
  {
   "cell_type": "code",
   "execution_count": 28,
   "metadata": {},
   "outputs": [
    {
     "name": "stdout",
     "output_type": "stream",
     "text": [
      "Values below -621.1875000000005 could be outliers.\n",
      "Values below 7941.1125 could be outliers.\n",
      "Values mid 3530.35 \n"
     ]
    }
   ],
   "source": [
    "# With the potential outliers, what is the lowest and highest median income (in $1000s) observed?\n",
    "med_inc = california_df['MedInc']\n",
    "quartiles = med_inc.quantile([.25,.5,.75])\n",
    "lowerq = quartiles[0.25]\n",
    "med = quartiles[0.5]\n",
    "upperq = quartiles[0.75]\n",
    "iqr = upperq-lowerq\n",
    "\n",
    "lower_bound = lowerq - (1.5*iqr)\n",
    "upper_bound = upperq + (1.5*iqr)\n",
    "print(f\"Values below {lower_bound*1000} could be outliers.\")\n",
    "print(f\"Values below {upper_bound*1000} could be outliers.\")\n",
    "print(f\"Values mid {med*1000} \")"
   ]
  },
  {
   "cell_type": "code",
   "execution_count": 35,
   "metadata": {},
   "outputs": [],
   "source": [
    "outliers = california_df.loc[(california_df[\"AveOccup\"]<lower_bound) | (california_df[\"AveOccup\"]<upper_bound)]"
   ]
  },
  {
   "cell_type": "code",
   "execution_count": null,
   "metadata": {},
   "outputs": [],
   "source": [
    "# Bonus - plot the latitude and longitude of the California housing data using Matplotlib, color the data points using the median income of the block."
   ]
  },
  {
   "cell_type": "code",
   "execution_count": null,
   "metadata": {},
   "outputs": [],
   "source": []
  },
  {
   "cell_type": "markdown",
   "metadata": {},
   "source": [
    "## 📣 3.1 Instructor Do: Sample, Population, and SEM\n",
    "\n",
    "* Weeks before Election Day, a local newspaper in a hypothetical city wants to predict the winner of the mayoral election. The newspaper will poll voters for their intended candidate. Point out the following:\n",
    "\n",
    "  * It would be prohibitively expensive to ask every voter in the city whom they will vote for, nor is it possible to know exactly which people will go out and vote on Election Day.\n",
    "\n",
    "  * The newspaper must therefore ask a _subset_ of all eligible voters in the city about their voting habits and _extrapolate_ information from the results.\n",
    "\n",
    "  * In this scenario, the newspaper decides to poll 1,000 eligible voters shopping at grocery stores across the city.\n",
    "\n",
    "  * By using the polling results from the 1,000 eligible voters, the newspaper can try to make an accurate prediction of the mayoral election outcome.\n",
    "\n",
    "* This hypothetical scenario is an example of a **sample** data set versus a **population** data set.\n",
    "\n",
    "  * In statistics, a **population** is a complete data set that contains all possible elements of a study or experiment.\n",
    "\n",
    "  * In this scenario, the population data set would be the voting habits of all eligible voters in the city.\n",
    "\n",
    "  * In statistics, a **sample** is a subset of a population dataset, where not all elements of a study or experiment are collected or measured.\n",
    "\n",
    "  * In this scenario, the sample dataset is the 1,000 eligible voters polled across the city.\n",
    "\n",
    "  * In data science, the concept of sample versus population does not strictly apply to people or animals. Any comprehensive dataset is considered a population, and any dataset that is a subset of a larger data set is considered a sample.\n",
    "\n",
    "* Execute the first 2 blocks of code to bring in the fuel economy dataset.\n",
    "\n",
    "```python\n",
    "# Dependencies\n",
    "import pandas as pd\n",
    "import random\n",
    "import matplotlib.pyplot as plt\n",
    "import numpy as np\n",
    "from scipy.stats import sem\n",
    "\n",
    "# Set the seed so our data is reproducible\n",
    "random.seed(42)\n",
    "\n",
    "# Sample versus population example fuel economy\n",
    "fuel_economy = pd.read_csv('../Resources/2019_fuel_economy.csv')\n",
    "\n",
    "# First overview the data set - how many factors, etc.\n",
    "print(fuel_economy.head())\n",
    "```\n",
    "\n",
    "* In this example we will be looking at 2019 vehicle fuel economy data from [fueleconomy.gov](https://https://www.fueleconomy.gov/feg/download.shtml). Our population data contains the fuel economy data for all 1,242 different 2019 model vehicles tested by the U.S. Department of Energy in 2018.\n",
    "\n",
    "* Calculate the population mean and standard deviation using the notebook.\n",
    "\n",
    "```python\n",
    "# Calculate the summary statistics and plot the histogram of the entire population data\n",
    "print(f\"The mean MPG of all vehicles is: {round(fuel_economy.Combined_MPG.mean(),2)}\")\n",
    "print(f\"The standard deviation of all vehicle's MPG is: {round(fuel_economy.Combined_MPG.std(),2)}\")\n",
    "```\n",
    "\n",
    "* The mean miles per gallon of all vehicles tested is 23.33, while the standard deviation of all vehicles tested is 5.94.\n",
    "\n",
    "* Plot the histogram of the fuel efficiency of all vehicles tested using the notebook.\n",
    "\n",
    "```python\n",
    "plt.hist(fuel_economy.Combined_MPG)\n",
    "plt.xlabel(\"Fuel Economy (MPG)\")\n",
    "plt.ylabel(\"Number of Vehicles\")\n",
    "plt.show()\n",
    "```\n",
    "\n",
    "![This is the histogram of the population fuel economy data.](Images/fuel_economy_hist.png)\n",
    "\n",
    "* When it comes to selecting a sample dataset, it is important to obtain a dataset that is representative of the entire population.\n",
    "\n",
    "* Subset the fuel economy data set using `fuel_economy.iloc[range(766,856)]` and calculate the mean and standard deviation of this sample. Plot the histogram of the sample data.\n",
    "\n",
    "```python\n",
    "# Calculate the summary statistics and plot the histogram of the sample data using iloc\n",
    "subset = fuel_economy.iloc[range(766,856)]\n",
    "print(f\"The mean MPG of all vehicles is: {round(subset.Combined_MPG.mean(),2)}\")\n",
    "print(f\"The standard deviation of all vehicle's MPG is: {round(subset.Combined_MPG.std(),2)}\")\n",
    "plt.hist(subset.Combined_MPG)\n",
    "plt.xlabel(\"Fuel Economy (MPG)\")\n",
    "plt.ylabel(\"Number of Vehicles\")\n",
    "plt.show()\n",
    "```\n",
    "\n",
    "![This is the histogram of the sample data obtained non-randomly.](Images/fuel_economy_bias_hist.png)\n",
    "\n",
    "* This sample data contains 90 data points from the fuel economy population dataset.\n",
    "\n",
    "  * This sample data does not represent the population dataset well; the sample mean is much lower than the population mean and the sample standard deviation is far smaller than the population standard deviation.\n",
    "\n",
    "  * The reason this sample does not represent the population data well is because it was not obtained using **random sampling**.\n",
    "\n",
    "  * The random sampling is a technique in data science in which every subject or data point has an equal chance of being included in the sample.\n",
    "\n",
    "  * This technique increases the likelihood that even a small sample size will include individuals from each group in the population.\n",
    "\n",
    "* Subset the fuel economy dataset using `fuel_economy.sample(90)` and calculate the mean and standard deviation of this sample. Plot the histogram of the sample data.\n",
    "\n",
    "```python\n",
    "# Calculate the summary statistics and plot the histogram of the sample data using random sampling\n",
    "subset = fuel_economy.sample(90)\n",
    "print(f\"The mean MPG of all vehicles is: {round(subset.Combined_MPG.mean(),2)}\")\n",
    "print(f\"The standard deviation of all vehicle's MPG is: {round(subset.Combined_MPG.std(),2)}\")\n",
    "plt.hist(subset.Combined_MPG)\n",
    "plt.xlabel(\"Fuel Economy (MPG)\")\n",
    "plt.ylabel(\"Number of Vehicles\")\n",
    "plt.show()\n",
    "```\n",
    "\n",
    "![This is the histogram of the sample data obtained using random sampling.](Images/fuel_economy_random_hist.png)\n",
    "\n",
    "* Pandas' `DataFrame.sample()` function uses random sampling to subset the DataFrame, creating a sample that is far more likely to represent the population data.\n",
    "\n",
    "* Compare and contrast the calculated sample mean, standard deviations, and plots from both sample data sets.\n",
    "\n",
    "  * Visually, the random sample has the same right skew to the distribution as the population data compared to the more normal distribution from the sliced sample.\n",
    "\n",
    "  * The mean and standard deviation of the random sample are far closer to the population mean and standard deviation compared to the sliced sample.\n",
    "\n",
    "* When describing a sample dataset using summary statistics such as the mean, quartiles, variance, and standard deviation, these statistical values are imperfect.\n",
    "\n",
    "  * Fortunately, there are ways of quantifying the trustworthiness of a sample dataset.\n",
    "\n",
    "  * The population mean mpg in the fuel economy data set is 23.33, while the population standard deviation of all vehicles is 5.94.\n",
    "\n",
    "  * The standard deviation is seemingly large compared to the mean, especially considering there are 1,242 vehicles in the dataset.\n",
    "  The larger standard deviation is most likely due to the variety of vehicle types in the dataset.\n",
    "\n",
    "* In order for us to estimate how well a sample is representative of the total population, we calculate the **standard error** (**standard error of the mean**, or SEM) of the sample.\n",
    "\n",
    "  * The standard error describes how far a sample's mean is from the population's \"true\" mean.\n",
    "\n",
    "  * The standard error is a function of sample size; as sample size increases, the standard error decreases.\n",
    "\n",
    "* The formula for standard error is unimportant. There is a [function in SciPy](https://docs.scipy.org/doc/scipy/reference/generated/scipy.stats.sem.html) that calculates standard error for us.\n",
    "\n",
    "* Using the notebook, create a new sample dataset from the fuel economy population data using `fuel_economy.sample(30)`. Calculate the SEM value using SciPy's `stats.sem` function.\n",
    "\n",
    "```python\n",
    "# Generate a new 30 vehicle sample and calculate the SEM of the sample\n",
    "sample = fuel_economy.sample(30)\n",
    "print(f\"The SEM value for the sample fuel economy data is {sem(sample.Combined_MPG)}\")\n",
    "```\n",
    "\n",
    "* One of the most common uses of SEM in data science is to compare and contrast sample data across a sample set. One easy way to visualize the differences in standard error across samples is to generate **error bars** on a scatter or line plot.\n",
    "\n",
    "* Use the notebook to create a sample set of 10 samples, each containing 30 vehicles from the fuel economy population data.\n",
    "\n",
    "```python\n",
    "# Create a sample set of 10, each with 30 vehicles\n",
    "vehicle_sample_set = [fuel_economy.sample(30) for x in range(0,10)]\n",
    "```\n",
    "\n",
    "* Calculate the mean and SEM of each sample using list comprehension and plot the data using Matplotlib's `pyplot.errorbar` function.\n",
    "\n",
    "```python\n",
    "# Generate the plot data for each sample\n",
    "means = [sample.Combined_MPG.mean() for sample in vehicle_sample_set]\n",
    "standard_errors = [sem(sample.Combined_MPG) for sample in vehicle_sample_set]\n",
    "x_axis = np.arange(0, len(vehicle_sample_set), 1) + 1\n",
    "\n",
    "# Setting up the plot\n",
    "fig, ax = plt.subplots()\n",
    "ax.errorbar(x_axis, means, standard_errors, fmt=\"o\")\n",
    "ax.set_xlim(0, len(vehicle_sample_set) + 1)\n",
    "ax.set_ylim(20,28)\n",
    "ax.set_xlabel(\"Sample Number\")\n",
    "ax.set_ylabel(\"Mean MPG\")\n",
    "plt.show()\n",
    "```\n",
    "\n",
    "![This plot demonstrates error bars on our sample means.](Images/fuel_economy_error_bars.png)\n",
    "\n",
    "* The standard error essentially tells us how likely it is that the sample's mean is \"close\" to the population's mean—the one we actually care seek to estimate.\n",
    "\n",
    "  * The error bars that are the largest are the samples whose mean is the least likely to represent the population mean.\n",
    "\n",
    "  * If the standard error of the samples is too large, we can increase the number of data points in the sample to reduce the standard error.\n",
    "\n",
    "* Slack out the solution notebook for students to refer to during the next activity.\n",
    "\n"
   ]
  },
  {
   "cell_type": "code",
   "execution_count": 36,
   "metadata": {},
   "outputs": [],
   "source": [
    "# Dependencies\n",
    "import pandas as pd\n",
    "import random\n",
    "import matplotlib.pyplot as plt\n",
    "import numpy as np\n",
    "from scipy.stats import sem\n",
    "\n",
    "# Set the seed so our data is reproducible\n",
    "random.seed(42)"
   ]
  },
  {
   "cell_type": "code",
   "execution_count": 37,
   "metadata": {},
   "outputs": [
    {
     "name": "stdout",
     "output_type": "stream",
     "text": [
      "          Type  Combined_MPG                           Make_Model\n",
      "0  Two Seaters       21.0000                            Acura_NSX\n",
      "1  Two Seaters       27.9406                        ALFA ROMEO_4C\n",
      "2  Two Seaters       20.9455  Aston Martin Lagonda Ltd_Vantage V8\n",
      "3  Two Seaters       25.9952             Audi_TT Roadster quattro\n",
      "4  Two Seaters       27.6300                     BMW_Z4 sDrive30i\n"
     ]
    }
   ],
   "source": [
    "# Sample versus population example fuel economy\n",
    "fuel_economy = pd.read_csv('Resources/2019_fuel_economy.csv')\n",
    "\n",
    "# First overview the data set - how many factors, etc.\n",
    "print(fuel_economy.head())"
   ]
  },
  {
   "cell_type": "code",
   "execution_count": 38,
   "metadata": {},
   "outputs": [
    {
     "name": "stdout",
     "output_type": "stream",
     "text": [
      "The mean MPG of all vehicles is: 23.33\n",
      "The standard deviation of all vehicle's MPG is: 5.94\n"
     ]
    },
    {
     "data": {
      "image/png": "[encoded data removed]",
      "text/plain": [
       "<Figure size 432x288 with 1 Axes>"
      ]
     },
     "metadata": {
      "needs_background": "light"
     },
     "output_type": "display_data"
    }
   ],
   "source": [
    "# Calculate the summary statistics and plot the histogram of the entire population data\n",
    "print(f\"The mean MPG of all vehicles is: {round(fuel_economy.Combined_MPG.mean(),2)}\")\n",
    "print(f\"The standard deviation of all vehicle's MPG is: {round(fuel_economy.Combined_MPG.std(),2)}\")\n",
    "plt.hist(fuel_economy.Combined_MPG)\n",
    "plt.xlabel(\"Fuel Economy (MPG)\")\n",
    "plt.ylabel(\"Number of Vehicles\")\n",
    "plt.show()"
   ]
  },
  {
   "cell_type": "code",
   "execution_count": 39,
   "metadata": {},
   "outputs": [
    {
     "name": "stdout",
     "output_type": "stream",
     "text": [
      "The mean MPG of all vehicles is: 18.48\n",
      "The standard deviation of all vehicle's MPG is: 2.41\n"
     ]
    },
    {
     "data": {
      "image/png": "[encoded data removed]",
      "text/plain": [
       "<Figure size 432x288 with 1 Axes>"
      ]
     },
     "metadata": {
      "needs_background": "light"
     },
     "output_type": "display_data"
    }
   ],
   "source": [
    "# Calculate the summary statistics and plot the histogram of the sample data using iloc\n",
    "subset = fuel_economy.iloc[range(766,856)]  #this is the sample using random, but it is not so good as 'sample' method\n",
    "print(f\"The mean MPG of all vehicles is: {round(subset.Combined_MPG.mean(),2)}\")\n",
    "print(f\"The standard deviation of all vehicle's MPG is: {round(subset.Combined_MPG.std(),2)}\")\n",
    "plt.hist(subset.Combined_MPG)\n",
    "plt.xlabel(\"Fuel Economy (MPG)\")\n",
    "plt.ylabel(\"Number of Vehicles\")\n",
    "plt.show()"
   ]
  },
  {
   "cell_type": "code",
   "execution_count": 40,
   "metadata": {},
   "outputs": [
    {
     "name": "stdout",
     "output_type": "stream",
     "text": [
      "The mean MPG of all vehicles is: 23.45\n",
      "The standard deviation of all vehicle's MPG is: 6.4\n"
     ]
    },
    {
     "data": {
      "image/png": "[encoded data removed]",
      "text/plain": [
       "<Figure size 432x288 with 1 Axes>"
      ]
     },
     "metadata": {
      "needs_background": "light"
     },
     "output_type": "display_data"
    }
   ],
   "source": [
    "# Calculate the summary statistics and plot the histogram of the sample data using random sampling\n",
    "subset = fuel_economy.sample(90)\n",
    "print(f\"The mean MPG of all vehicles is: {round(subset.Combined_MPG.mean(),2)}\")\n",
    "print(f\"The standard deviation of all vehicle's MPG is: {round(subset.Combined_MPG.std(),2)}\")\n",
    "plt.hist(subset.Combined_MPG)\n",
    "plt.xlabel(\"Fuel Economy (MPG)\")\n",
    "plt.ylabel(\"Number of Vehicles\")\n",
    "plt.show()"
   ]
  },
  {
   "cell_type": "code",
   "execution_count": 41,
   "metadata": {},
   "outputs": [
    {
     "name": "stdout",
     "output_type": "stream",
     "text": [
      "The SEM value for the sample fuel economy data is 1.1969274032446295\n"
     ]
    }
   ],
   "source": [
    "# Generate a new 30 vehicle sample and calculate the SEM of the sample\n",
    "sample = fuel_economy.sample(30)\n",
    "print(f\"The SEM value for the sample fuel economy data is {sem(sample.Combined_MPG)}\")"
   ]
  },
  {
   "cell_type": "code",
   "execution_count": 42,
   "metadata": {},
   "outputs": [
    {
     "name": "stdout",
     "output_type": "stream",
     "text": [
      "The SEM value for the sample fuel economy data is 0.6742946450468167\n"
     ]
    }
   ],
   "source": [
    "# Generate a new 30 vehicle sample and calculate the SEM of the sample\n",
    "sample = fuel_economy.sample(90)\n",
    "print(f\"The SEM value for the sample fuel economy data is {sem(sample.Combined_MPG)}\")"
   ]
  },
  {
   "cell_type": "code",
   "execution_count": 44,
   "metadata": {},
   "outputs": [],
   "source": [
    "# Create a sample set of 10, each with 30 vehicles\n",
    "vehicle_sample_set = [fuel_economy.sample(30) for _ in range(0,10)]"
   ]
  },
  {
   "cell_type": "code",
   "execution_count": null,
   "metadata": {},
   "outputs": [],
   "source": [
    "#vehicle_sample_set is a list of Data Frames. Each Data Frames corresponds to a sample\n"
   ]
  },
  {
   "cell_type": "code",
   "execution_count": 45,
   "metadata": {},
   "outputs": [],
   "source": [
    "# Generate the plot data for each sample \n",
    "means = [sample.Combined_MPG.mean() for sample in vehicle_sample_set]\n",
    "standard_errors = [sem(sample.Combined_MPG) for sample in vehicle_sample_set]\n",
    "x_axis = np.arange(0, len(vehicle_sample_set), 1) + 1"
   ]
  },
  {
   "cell_type": "code",
   "execution_count": 46,
   "metadata": {
    "scrolled": true
   },
   "outputs": [
    {
     "data": {
      "image/png": "[encoded data removed]",
      "text/plain": [
       "<Figure size 432x288 with 1 Axes>"
      ]
     },
     "metadata": {
      "needs_background": "light"
     },
     "output_type": "display_data"
    }
   ],
   "source": [
    "# Setting up the plot\n",
    "fig, ax = plt.subplots()\n",
    "ax.errorbar(x_axis, means, standard_errors, fmt=\"o\")\n",
    "ax.set_xlim(0, len(vehicle_sample_set) + 1)\n",
    "ax.set_ylim(20,28)\n",
    "ax.set_xlabel(\"Sample Number\")\n",
    "ax.set_ylabel(\"Mean MPG\")\n",
    "plt.show()"
   ]
  },
  {
   "cell_type": "code",
   "execution_count": null,
   "metadata": {},
   "outputs": [],
   "source": []
  },
  {
   "cell_type": "markdown",
   "metadata": {},
   "source": [
    "## ✏️ 3.2 Student Do: SEM and Error Bars\n",
    "\n",
    "# SEM and Error Bars\n",
    "\n",
    "## Instructions\n",
    "\n",
    "Work with a partner on this activity. Be sure to compare your calculated values as you progress through the activity.\n",
    "\n",
    "* Execute the starter code to import the Boston housing data set from scikit-learn.\n",
    "\n",
    "* Create a sample set of median housing prices using Pandas. Be sure to create samples of size 20.\n",
    "\n",
    "* Calculate the means and standard errors for each sample.\n",
    "\n",
    "* Create a plot displaying the means for each sample, with the standard error as error bars.\n",
    "\n",
    "* Calculate the range of SEM values across the sample set.\n",
    "\n",
    "* Determine which sample's mean is closest to the population mean.\n",
    "\n",
    "* Compare this sample's mean to the population's mean.\n",
    "\n",
    "* Rerun your sampling code a few times to generate new sample sets. Try changing the sample size and rerunning the sampling code.\n",
    "\n",
    "* Discuss with your partner what changes you observe when sample size changes.\n",
    "\n",
    "- - -"
   ]
  },
  {
   "cell_type": "code",
   "execution_count": null,
   "metadata": {},
   "outputs": [],
   "source": [
    "# Dependencies\n",
    "from matplotlib import pyplot as plt\n",
    "import numpy as np\n",
    "import pandas as pd\n",
    "from sklearn.datasets import load_boston\n",
    "from scipy.stats import sem"
   ]
  },
  {
   "cell_type": "code",
   "execution_count": null,
   "metadata": {},
   "outputs": [],
   "source": [
    "# Import the Boston housing data set from sklearn and get description\n",
    "boston_dataset = load_boston()"
   ]
  },
  {
   "cell_type": "code",
   "execution_count": null,
   "metadata": {},
   "outputs": [],
   "source": [
    "# Read Boston housing data into a Pandas dataframe\n",
    "housing_data = pd.DataFrame(data=boston_dataset.data,columns=boston_dataset.feature_names)\n",
    "housing_data['MEDV'] = boston_dataset.target"
   ]
  },
  {
   "cell_type": "code",
   "execution_count": null,
   "metadata": {},
   "outputs": [],
   "source": [
    "# Create a bunch of samples, each with sample size of 20"
   ]
  },
  {
   "cell_type": "code",
   "execution_count": null,
   "metadata": {},
   "outputs": [],
   "source": [
    "# Calculate standard error of means"
   ]
  },
  {
   "cell_type": "code",
   "execution_count": null,
   "metadata": {},
   "outputs": [],
   "source": [
    "# Determine which sample's mean is closest to the population mean"
   ]
  },
  {
   "cell_type": "code",
   "execution_count": null,
   "metadata": {},
   "outputs": [],
   "source": [
    "# Compare to the population mean"
   ]
  },
  {
   "cell_type": "code",
   "execution_count": null,
   "metadata": {},
   "outputs": [],
   "source": [
    "# Plot sample means with error bars"
   ]
  },
  {
   "cell_type": "code",
   "execution_count": null,
   "metadata": {},
   "outputs": [],
   "source": []
  },
  {
   "cell_type": "code",
   "execution_count": null,
   "metadata": {},
   "outputs": [],
   "source": []
  },
  {
   "cell_type": "markdown",
   "metadata": {},
   "source": [
    "## 📣 4.1 Instructor Do: Correlation Conundrum\n",
    "\n",
    "  * Often in data analysis we will ask the question \"Is there any relationship between Factor A and Factor B?\" This concept is known in statistics as **correlation**.\n",
    "\n",
    "  ![This is an ideal positive correlation.](Images/corr_ideal_pos.png)\n",
    "\n",
    "  * This is an example of a **positive correlation**. When two factors are positively correlated, they move in the same direction.\n",
    "\n",
    "  * When the factor on the x-axis increases, the factor on the y-axis increases as well.\n",
    "\n",
    "  ![This is an ideal negative correlation.](Images/corr_ideal_neg.png)\n",
    "\n",
    "  * This is an example of a **negative correlation**. When two factors are negatively correlated, they move in opposite directions.\n",
    "\n",
    "  * When the factor on the x-axis increases, the factor on the y-axis decreases.\n",
    "\n",
    "  ![This is no correlation.](Images/corr_none.png)\n",
    "\n",
    "  * This is an example of two factors with **no correlation**. When two factors are not correlated, their values are completely independent between one another.\n",
    "\n",
    "* With real-world data, it can be difficult to determine if two factors are correlated.\n",
    "\n",
    "  * In statistics we can calculate the degree of correlation using the **Pearson correlation coefficient**.\n",
    "\n",
    "  * The Pearson correlation coefficient is a quantitative measure that describes simultaneous movement (variability) of two factors.\n",
    "\n",
    "    * The correlation coefficient, which is often indicated with the letter *r**, will always fall between –1 and 1.\n",
    "\n",
    "    * An _r_ value of 1 indicates a perfect positive correlation, while an _r_ value of –1 indicates a perfect negative correlation.\n",
    "\n",
    "    * An _r_ value of 0 means that there is no relationship between the two factors.\n",
    "\n",
    "    * Most of the time, real-world data will not be the ideal case of -1,0, or 1. However, we can look at the correlation coefficient to determine how strongly or weakly two factors are related.\n",
    "\n",
    "```python\n",
    "# Import the WHO dataset, drop missing data\n",
    "who_data = pd.read_csv('../Resources/WHO_data.csv')\n",
    "who_data = who_data.dropna()\n",
    "who_data.head()\n",
    "```\n",
    "\n",
    "* For this example, we are looking at a dataset from the World Health Organization. This dataset contains a number of factors collected by WHO for each country regarding health, population, wealth and social tendencies.\n",
    "\n",
    "* Execute the next four blocks of code to produce plots of different pairs of factors. Ask the class which pairs of factors they believe to be correlated.\n",
    "\n",
    "  ![income versus alcohol](Images/correlation_plot1.png)\n",
    "\n",
    "  ![population versus cell phones](Images/correlation_plot2.png)\n",
    "\n",
    "  ![expenditure versus expectancy](Images/correlation_plot3.png)\n",
    "\n",
    "  ![income versus measles](Images/correlation_plot4.png)\n",
    "\n",
    "* All four of these pairs of factors are correlated with one another to varying degrees.\n",
    "\n",
    "  * We will use the **Pearson correlation coefficient** to quantitate the degree of correlation.\n",
    "\n",
    "  * We do not need to know the mathematical equation to derive the correlation coefficient. This is because most programming languages and analytical software have correlation functions built in or available through an imported module or package.\n",
    "\n",
    "* Return to the notebook and execute the next block of code. This time, we will take the same pairs of factors and use SciPy's `stats.pearsonr` function to quantify the correlation.\n",
    "\n",
    "```python\n",
    "# The next example will compute the Pearson correlation coefficient between \"Income per Capita\" and \"Average Alcohol Consumed\"\n",
    "income = who_data.iloc[:,1]\n",
    "alcohol = who_data.iloc[:,8]\n",
    "correlation = st.pearsonr(income,alcohol)\n",
    "print(f\"The correlation between both factors is {round(correlation[0],2)}\")\n",
    "```\n",
    "\n",
    "* SciPy's `stats.pearsonr` function simply takes two numerical lists of values (i.e., two factors) and computes the Pearson correlation coefficient.\n",
    "\n",
    "  * The output of the `stats.pearsonr` function returns both the _r_ value and a _p_ value. For now, we will only look at the _r_ value.\n",
    "\n",
    "* Execute the next few blocks of code to reproduce the previous example's plots, but this time we accompany the plots with the Pearson's _r_ statistic.\n",
    "\n",
    "![This is the code block that compares the plot with r-statistic.](Images/correlation_plot1_block.png)\n",
    "\n",
    "* Across all four pairs of factors, we see the Pearson correlation coefficient range between .28 and .82. This means all four pairs of factors are positively correlated to varying degrees.\n",
    "\n",
    "* There is a general rule of thumb when describing the strength of a correlation in regards to the absolute value of r. Show the students the following table:\n",
    "\n",
    "![the correlation rule of thumb](Images/correlation_table.png)\n",
    "\n",
    "* We can use this table along with our calculated _r_ values to describe if there is any relationship between two factors.\n",
    "\n",
    "* That calculating correlations across an entire dataset is a great way to try to find relationships between factors that one could test or investigate with more depth. But caution the students that correlations are not designed to determine the outcome of one variable from another—remember the saying that \"correlation does not equal causation.\""
   ]
  },
  {
   "cell_type": "code",
   "execution_count": null,
   "metadata": {},
   "outputs": [],
   "source": [
    "# Dependencies\n",
    "import pandas as pd\n",
    "import matplotlib.pyplot as plt\n",
    "import scipy.stats as st"
   ]
  },
  {
   "cell_type": "code",
   "execution_count": null,
   "metadata": {},
   "outputs": [],
   "source": [
    "# Import the WHO dataset, drop missing data\n",
    "who_data = pd.read_csv('../Resources/WHO_data.csv')\n",
    "who_data = who_data.dropna()\n",
    "who_data.head()"
   ]
  },
  {
   "cell_type": "code",
   "execution_count": null,
   "metadata": {},
   "outputs": [],
   "source": [
    "# For the first example, determine which pairs of factors are correlated. \n",
    "plt.scatter(who_data.iloc[:,1],who_data.iloc[:,8])\n",
    "plt.xlabel('Income Per Capita')\n",
    "plt.ylabel('Average Alcohol Consumed Per Person Per Year (L)')\n",
    "plt.show()"
   ]
  },
  {
   "cell_type": "code",
   "execution_count": null,
   "metadata": {},
   "outputs": [],
   "source": [
    "plt.scatter(who_data.iloc[:,3],who_data.iloc[:,10])\n",
    "plt.xlabel('Population Median Age')\n",
    "plt.ylabel('Cell Phones Per 100 People')\n",
    "plt.show()"
   ]
  },
  {
   "cell_type": "code",
   "execution_count": null,
   "metadata": {},
   "outputs": [],
   "source": [
    "plt.scatter(who_data.iloc[:,5],who_data.iloc[:,7])\n",
    "plt.xlabel('% Government Expenditure on Health')\n",
    "plt.ylabel('Male Life Expectancy')\n",
    "plt.show()"
   ]
  },
  {
   "cell_type": "code",
   "execution_count": null,
   "metadata": {},
   "outputs": [],
   "source": [
    "plt.scatter(who_data.iloc[:,1],who_data.iloc[:,12])\n",
    "plt.xlabel('Income Per Capita')\n",
    "plt.ylabel('% Measles Immunization')\n",
    "plt.show()"
   ]
  },
  {
   "cell_type": "code",
   "execution_count": null,
   "metadata": {},
   "outputs": [],
   "source": [
    "# The next example will compute the Pearson correlation coefficient between \"Income per Capita\" and \"Average Alcohol Consumed\"\n",
    "income = who_data.iloc[:,1]\n",
    "alcohol = who_data.iloc[:,8]\n",
    "correlation = st.pearsonr(income,alcohol)\n",
    "print(f\"The correlation between both factors is {round(correlation[0],2)}\")"
   ]
  },
  {
   "cell_type": "code",
   "execution_count": null,
   "metadata": {},
   "outputs": [],
   "source": [
    "# Compare the calcualted Pearson's r to the plots\n",
    "plt.scatter(income,alcohol)\n",
    "plt.xlabel('Income Per Capita')\n",
    "plt.ylabel('Average Alcohol Consumed Per Person Per Year (L)')\n",
    "print(f\"The correlation between both factors is {round(correlation[0],2)}\")\n",
    "plt.show()"
   ]
  },
  {
   "cell_type": "code",
   "execution_count": null,
   "metadata": {},
   "outputs": [],
   "source": [
    "age = who_data.iloc[:,3]\n",
    "cell_phones = who_data.iloc[:,10]\n",
    "correlation = st.pearsonr(age,cell_phones)\n",
    "plt.scatter(age,cell_phones)\n",
    "plt.xlabel('Population Median Age')\n",
    "plt.ylabel('Cell Phones Per 100 People')\n",
    "print(f\"The correlation between both factors is {round(correlation[0],2)}\")\n",
    "plt.show()"
   ]
  },
  {
   "cell_type": "code",
   "execution_count": null,
   "metadata": {},
   "outputs": [],
   "source": [
    "government = who_data.iloc[:,5]\n",
    "life = who_data.iloc[:,7]\n",
    "correlation = st.pearsonr(government,life)\n",
    "plt.scatter(government,life)\n",
    "plt.xlabel('% Government Expenditure on Health')\n",
    "plt.ylabel('Male Life Expectancy')\n",
    "print(f\"The correlation between both factors is {round(correlation[0],2)}\")\n",
    "plt.show()"
   ]
  },
  {
   "cell_type": "code",
   "execution_count": null,
   "metadata": {
    "scrolled": true
   },
   "outputs": [],
   "source": [
    "income = who_data.iloc[:,1]\n",
    "measles = who_data.iloc[:,12]\n",
    "correlation = st.pearsonr(income,measles)\n",
    "plt.scatter(income,measles)\n",
    "plt.xlabel('Income Per Capita')\n",
    "plt.ylabel('% Measles Immunization')\n",
    "print(f\"The correlation between both factors is {round(correlation[0],2)}\")\n",
    "plt.show()"
   ]
  },
  {
   "cell_type": "code",
   "execution_count": null,
   "metadata": {},
   "outputs": [],
   "source": []
  },
  {
   "cell_type": "code",
   "execution_count": null,
   "metadata": {},
   "outputs": [],
   "source": []
  },
  {
   "cell_type": "markdown",
   "metadata": {},
   "source": [
    "## ✏️ 4.2 Student Do: Correlation Conquerors\n",
    "\n",
    "# Correlation Conquerors\n",
    "\n",
    "This activity gives students an opportunity to use SciPy to compare factors across the scikit-learn's wine recognition dataset.\n",
    "\n",
    "The wine recognition dataset is \"the results of a chemical analysis of wines grown in the same region in Italy by three different cultivators.\" Measurements of * different constituents are taken for three types of wine.\n",
    "\n",
    "## Instructions\n",
    "\n",
    "* Execute the starter code to import the wine recognition dataset from scikit-learn.\n",
    "\n",
    "* Using the dataset, plot the factors malic acid versus flavanoids on a scatter plot. Is this relationship positively correlated, negatively correlated, or not correlated? How strong is the correlation?\n",
    "\n",
    "* Calculate the Pearson's correlation coefficient for  malic acid versus flavanoids. Compare the correlation coefficient to the Strength of Correlation table below. Was your prediction correct?\n",
    "\n",
    "![correlation strength table](Images/correlation_table.png)\n",
    "\n",
    "* Plot the factors alcohol versus color intensity on a scatter plot. Is this relationship positively correlated, negatively correlated, or not correlated? How strong is the correlation?\n",
    "\n",
    "* Calculate the Pearson's correlation coefficient for alcohol versus color intensity. Compare the correlation coefficient to the Strength of Correlation table. Was your prediction correct?\n",
    "\n",
    "## Bonus\n",
    "\n",
    "* Look at the [Pandas documentation](https://pandas.pydata.org/pandas-docs/stable/) to find how to generate a correlation matrix. This matrix will contain the Pearson's correlation coefficient for all pairs of factors in the DataFrame.\n",
    "\n",
    "* Generate the correlation matrix and try to find the pair of factors that generate the strongest positive and strongest negative correlations.\n",
    "\n",
    "- - -"
   ]
  },
  {
   "cell_type": "code",
   "execution_count": null,
   "metadata": {},
   "outputs": [],
   "source": [
    "# Dependencies\n",
    "import pandas as pd\n",
    "import sklearn.datasets as dta\n",
    "import scipy.stats as st\n",
    "import matplotlib.pyplot as plt"
   ]
  },
  {
   "cell_type": "code",
   "execution_count": null,
   "metadata": {},
   "outputs": [],
   "source": [
    "# Read in the wine recognition data set from sklearn and load into Pandas\n",
    "data = dta.load_wine()\n",
    "wine_data = pd.DataFrame(data.data,columns=data.feature_names)"
   ]
  },
  {
   "cell_type": "code",
   "execution_count": null,
   "metadata": {},
   "outputs": [],
   "source": [
    "# Plot malic_acid versus flavanoids on a scatterplot"
   ]
  },
  {
   "cell_type": "code",
   "execution_count": null,
   "metadata": {},
   "outputs": [],
   "source": [
    "# Calculate the correlation coefficient between malic_acid and flavanoids"
   ]
  },
  {
   "cell_type": "code",
   "execution_count": null,
   "metadata": {},
   "outputs": [],
   "source": [
    "# Plot alcohol versus colour_intensity on a scatterplot"
   ]
  },
  {
   "cell_type": "code",
   "execution_count": null,
   "metadata": {},
   "outputs": [],
   "source": [
    "# Calculate the correlation coefficient between alcohol and color_intensity"
   ]
  },
  {
   "cell_type": "code",
   "execution_count": null,
   "metadata": {},
   "outputs": [],
   "source": [
    "# BONUS: Generate the correlation matrix and find the strongest positive and negative correlations\n"
   ]
  },
  {
   "cell_type": "code",
   "execution_count": null,
   "metadata": {},
   "outputs": [],
   "source": []
  },
  {
   "cell_type": "code",
   "execution_count": null,
   "metadata": {},
   "outputs": [],
   "source": []
  },
  {
   "cell_type": "markdown",
   "metadata": {},
   "source": [
    "## 📣 5.1 Instructor Do: Fits and Regression\n",
    "\n",
    "  * The final important statistical topic for the day is **linear regression**. However, before we can discuss linear regression, we must first talk about the equation of a line.\n",
    "\n",
    "  * The equation of a line defines the relationship between x-values and y-values.\n",
    "\n",
    "  * When it comes to variables in the equation, we refer to the _x_ in the equation as the **independent variable**, and the _y_ as the **dependent variable**.\n",
    "\n",
    "  * The **slope** of a line is denoted as _m_ in the equation, and the **_y_-intercept** is denoted as _b_ in the equation.\n",
    "\n",
    "  * Knowing the slope and y-intercept of a line, we can determine any value of _y_ given the value for _x_. This is why we say _y_ is dependent on _x_.\n",
    "\n",
    "  ![Plot of the exact y = x](Images/lineregress_plot1.png)\n",
    "\n",
    "  * First plot is considered the ideal linear relationship of _y_ and _x_, where the _x_ and _y_ values are the same value.\n",
    "\n",
    "  * In this plot, the equation for line is _y = x_ because the slope is equal to 1, and the _y_-intercept is equal to 0.\n",
    "\n",
    "  * If we look at the _x_ value of 7 (denoted by the vertical dashed line), the corresponding _y_ value is also 7 (denoted by the horizontal dashed line).\n",
    "\n",
    "  ![Plot with a smaller slope, larger intercept](Images/lineregress_plot2.png)\n",
    "\n",
    "  * In this linear relationship between _x_ and _y_, the slope is much smaller, but the _y_-intercept is much larger.\n",
    "\n",
    "  * If you plug an _x_ value of 7 into the equation, the resulting _y_ value is 6.4.\n",
    "\n",
    "  * This idea of relating _x_ values and _y_ values using the equation of a line is the general concept of **linear regression**.\n",
    "\n",
    "    * **Linear regression** is used in data science to model and predict the relationship between two factors.\n",
    "\n",
    "    * Although this may sound similar to correlation, there is a big difference between the two concepts––correlation quantifies if \"factor Y\" and \"factor X\" are related, while regression predicts \"factor Y\" values given values from \"factor X.\"\n",
    "\n",
    "    * By fitting the relationship of two factors to a linear equation, linear regression  allows us to predict where data points we did not measure might end up if we had collected more data.\n",
    "\n",
    "    * Linear regression is a truly powerful tool––it provides us the means to predict house prices, stock market movements, and the weather based on other data.\n",
    "\n",
    "* We will not dive into the mathematical details of linear regression; rather, we will focus on how to use [SciPy's linregress function](https://docs.scipy.org/doc/scipy/reference/generated/scipy.stats.linregress.html) to perform a linear regression, and visualize the linear regression using Matplotlib.\n",
    "\n",
    "```python\n",
    "# Dependencies\n",
    "from matplotlib import pyplot as plt\n",
    "from scipy.stats import linregress\n",
    "import numpy as np\n",
    "from sklearn import datasets\n",
    "import pandas as pd\n",
    "\n",
    "# This example compares different factors in the Boston housing data set\n",
    "boston_data = datasets.load_boston()\n",
    "housing_data = pd.DataFrame(data=boston_data.data,columns=boston_data.feature_names)\n",
    "housing_data['MEDV'] = boston_data.target\n",
    "\n",
    "# Plot out rooms versus median house price\n",
    "x_values = housing_data['RM']\n",
    "y_values = housing_data['MEDV']\n",
    "plt.scatter(x_values,y_values)\n",
    "plt.xlabel('Rooms in House')\n",
    "plt.ylabel('Median House Prices ($1000)')\n",
    "plt.show()\n",
    "```\n",
    "\n",
    "  ![Plot of nRooms versus median housing price](Images/lineregress_plot4.png)\n",
    "\n",
    "* We are once again looking at the Boston housing dataset from scikit-learn. Specifically, we have plotted two factors from the Boston housing dataset in a scatter plot––rooms in a house versus the median housing prices.\n",
    "\n",
    "* Visually we can see that there is a strong positive correlation between the two factors. We could say overall, when there are more rooms in a house, the median house price goes up.\n",
    "\n",
    "* We can model this relationship using SciPy's `linregress` function by providing it both factors.\n",
    "\n",
    "```python\n",
    "# Add the linear regression equation and line to plot\n",
    "x_values = housing_data['RM']\n",
    "y_values = housing_data['MEDV']\n",
    "(slope, intercept, rvalue, pvalue, stderr) = linregress(x_values, y_values)\n",
    "regress_values = x_values * slope + intercept\n",
    "line_eq = \"y = \" + str(round(slope,2)) + \"x + \" + str(round(intercept,2))\n",
    "plt.scatter(x_values,y_values)\n",
    "plt.plot(x_values,regress_values,\"r-\")\n",
    "plt.annotate(line_eq,(6,10),fontsize=15,color=\"red\")\n",
    "plt.xlabel('Rooms in House')\n",
    "plt.ylabel('Median House Prices ($1000)')\n",
    "plt.show()\n",
    "```\n",
    "\n",
    "  ![Full plot of rooms versus price with regression and equation](Images/lineregress_plot5.png)\n",
    "\n",
    "* `linregress` produces a number of calculated values, such as slope, intercept, r-value, which is the correlation coefficient, _p_ value, and standard error. The slope, intercept, and standard error are values we have already discussed today.\n",
    "\n",
    "* We can use the slope and intercept from the `linregress` function to generate our equation of a line. This linear equation can then be used to determine the corresponding _y_ values in order to plot the linear regression over our scatter plot.\n",
    "\n",
    "* Overall the regression line does a good job of predicting the _y_ values versus the _x_ values. However, some of the actual median housing prices are underestimated between 5 and 7 rooms in the house, and across the entire dataset are expensive houses regardless of rooms. Explain that these values are not accurately predicted by the regression model.\n",
    "\n",
    "  * If we wanted to quantify how well the linear regression model predicts the actual values of the dataset, we look at the **r-squared** value, which is determined by squaring the correlation coefficient (`rvalue`).\n",
    "\n",
    "  * The r-squared value is also known as **coefficient of determination**, and it represents the percent of data that is closest to the line of best fit.\n",
    "\n",
    "  * The r-squared value ranges between 0 and 1, where 0 means that none of the actual _y_ values predicted by the _x_ values in the equation. Conversely, an r-squared value of 1 means that all of the actual _y_ values are predicted by the _x_ values in the equation.\n",
    "\n",
    "  * The r-squared value is also the squared value of Pearson's correlation coefficient _r_. Therefore, the r-squared statistic can be used to describe the overall relationship between the two factors.\n",
    "\n",
    "* Execute the next block of code to reproduce the rooms versus price plot with the addition of the r-squared value.\n",
    "\n",
    "```python\n",
    "# Print out the r-squared value along with the plot.\n",
    "x_values = housing_data['RM']\n",
    "y_values = housing_data['MEDV']\n",
    "(slope, intercept, rvalue, pvalue, stderr) = linregress(x_values, y_values)\n",
    "regress_values = x_values * slope + intercept\n",
    "line_eq = \"y = \" + str(round(slope,2)) + \"x + \" + str(round(intercept,2))\n",
    "plt.scatter(x_values,y_values)\n",
    "plt.plot(x_values,regress_values,\"r-\")\n",
    "plt.annotate(line_eq,(6,10),fontsize=15,color=\"red\")\n",
    "plt.xlabel('Rooms in House')\n",
    "plt.ylabel('Median House Prices ($1000)')\n",
    "print(f\"The r-squared is: {rvalue**2}\")\n",
    "plt.show()\n",
    "```\n",
    "\n",
    "* The r-squared value of the relationship is 0.48. This means the linear equation is predictive of 48% of all _y_ values, which is not ideal for predicting housing prices based on the number of rooms.\n",
    "\n",
    "  * We could use the linear equation to predict median house prices when we have a different number of rooms than what was in the dataset and using this linear equation could lead to incorrect conclusions.\n",
    "\n",
    "* Execute the next two blocks of code in the notebook.\n",
    "\n",
    "```python\n",
    "# The next example looks at a diabetes data set with less linear relationships\n",
    "diabetes_data = datasets.load_diabetes()\n",
    "data = pd.DataFrame(diabetes_data.data,columns=diabetes_data.feature_names)\n",
    "data['1Y_Disease_Progress'] = diabetes_data.target\n",
    "\n",
    "# Plot out the different factors in a scatter plot\n",
    "x_values = data['bp']\n",
    "y_values = data['1Y_Disease_Progress']\n",
    "(slope, intercept, rvalue, pvalue, stderr) = linregress(x_values, y_values)\n",
    "regress_values = x_values * slope + intercept\n",
    "line_eq = \"y = \" + str(round(slope,2)) + \"x + \" + str(round(intercept,2))\n",
    "plt.scatter(x_values,y_values)\n",
    "plt.plot(x_values,regress_values,\"r-\")\n",
    "plt.annotate(line_eq,(0,50),fontsize=15,color=\"red\")\n",
    "plt.xlabel('Normalized Blood Pressure')\n",
    "plt.ylabel('1Y_Disease_Progress')\n",
    "print(f\"The r-squared is: {rvalue**2}\")\n",
    "plt.show()\n",
    "```\n",
    "\n",
    "  ![blood pressure versus progression](Images/lineregress_plot8.png)\n",
    "\n",
    "* This dataset comes from the diabetes dataset from scikit-learn.\n",
    "\n",
    "  * With this dataset, we want to quantify the relationship between the blood pressure of patients versus the progression of diabetes after 1 year since diagnosis.\n",
    "\n",
    "  * With this plot, we can visually see there is a moderate positive correlation between blood pressure and disease progression. If we look at the linear regression model, the line does trend with the data, but the _y_ values are not well predicted by the linear equation.\n",
    "\n",
    "  * The regression model produces an r-squared value of 0.19. This means that the equation only predicts the actual y values approximately 19% of the time. Considering that blood pressure and disease progression demonstrate a weak correlation, the simple linear model is not robust enough to adequately predict blood pressure.\n",
    "\n",
    "  * It is unwise to use poor linear models to predict values. Doing so can lead to incorrect conclusions.\n",
    "\n",
    "* From these examples we now understand the relationship between correlation and regression––the weaker the correlation is between two factors, the less predictive a linear regression model can be.\n"
   ]
  },
  {
   "cell_type": "code",
   "execution_count": null,
   "metadata": {},
   "outputs": [],
   "source": [
    "# Dependencies\n",
    "from matplotlib import pyplot as plt\n",
    "from scipy.stats import linregress\n",
    "import numpy as np\n",
    "from sklearn import datasets\n",
    "import pandas as pd"
   ]
  },
  {
   "cell_type": "code",
   "execution_count": null,
   "metadata": {},
   "outputs": [],
   "source": [
    "# This example compares different factors in the Boston housing data set\n",
    "boston_data = datasets.load_boston()\n",
    "housing_data = pd.DataFrame(data=boston_data.data,columns=boston_data.feature_names)\n",
    "housing_data['MEDV'] = boston_data.target"
   ]
  },
  {
   "cell_type": "code",
   "execution_count": null,
   "metadata": {},
   "outputs": [],
   "source": [
    "# Plot out rooms versus median house price\n",
    "x_values = housing_data['RM']\n",
    "y_values = housing_data['MEDV']\n",
    "plt.scatter(x_values,y_values)\n",
    "plt.xlabel('Rooms in House')\n",
    "plt.ylabel('Median House Prices ($1000)')\n",
    "plt.show()"
   ]
  },
  {
   "cell_type": "code",
   "execution_count": null,
   "metadata": {},
   "outputs": [],
   "source": [
    "# Add the linear regression equation and line to plot\n",
    "x_values = housing_data['RM']\n",
    "y_values = housing_data['MEDV']\n",
    "(slope, intercept, rvalue, pvalue, stderr) = linregress(x_values, y_values)\n",
    "regress_values = x_values * slope + intercept\n",
    "line_eq = \"y = \" + str(round(slope,2)) + \"x + \" + str(round(intercept,2))\n",
    "plt.scatter(x_values,y_values)\n",
    "plt.plot(x_values,regress_values,\"r-\")\n",
    "plt.annotate(line_eq,(6,10),fontsize=15,color=\"red\")\n",
    "plt.xlabel('Rooms in House')\n",
    "plt.ylabel('Median House Prices ($1000)')\n",
    "plt.show()"
   ]
  },
  {
   "cell_type": "code",
   "execution_count": null,
   "metadata": {},
   "outputs": [],
   "source": [
    "# Print out the r-squared value along with the plot.\n",
    "x_values = housing_data['RM']\n",
    "y_values = housing_data['MEDV']\n",
    "(slope, intercept, rvalue, pvalue, stderr) = linregress(x_values, y_values)\n",
    "regress_values = x_values * slope + intercept\n",
    "line_eq = \"y = \" + str(round(slope,2)) + \"x + \" + str(round(intercept,2))\n",
    "plt.scatter(x_values,y_values)\n",
    "plt.plot(x_values,regress_values,\"r-\")\n",
    "plt.annotate(line_eq,(6,10),fontsize=15,color=\"red\")\n",
    "plt.xlabel('Rooms in House')\n",
    "plt.ylabel('Median House Prices ($1000)')\n",
    "print(f\"The r-squared is: {rvalue**2}\")\n",
    "plt.show()"
   ]
  },
  {
   "cell_type": "code",
   "execution_count": null,
   "metadata": {},
   "outputs": [],
   "source": [
    "# The next example looks at a diabetes data set with less linear relationships\n",
    "diabetes_data = datasets.load_diabetes()\n",
    "data = pd.DataFrame(diabetes_data.data,columns=diabetes_data.feature_names)\n",
    "data['1Y_Disease_Progress'] = diabetes_data.target"
   ]
  },
  {
   "cell_type": "code",
   "execution_count": null,
   "metadata": {
    "scrolled": true
   },
   "outputs": [],
   "source": [
    "x_values = data['bp']\n",
    "y_values = data['1Y_Disease_Progress']\n",
    "(slope, intercept, rvalue, pvalue, stderr) = linregress(x_values, y_values)\n",
    "regress_values = x_values * slope + intercept\n",
    "line_eq = \"y = \" + str(round(slope,2)) + \"x + \" + str(round(intercept,2))\n",
    "plt.scatter(x_values,y_values)\n",
    "plt.plot(x_values,regress_values,\"r-\")\n",
    "plt.annotate(line_eq,(0,50),fontsize=15,color=\"red\")\n",
    "plt.xlabel('Normalized Blood Pressure')\n",
    "plt.ylabel('1Y_Disease_Progress')\n",
    "print(f\"The r-squared is: {rvalue**2}\")\n",
    "plt.show()"
   ]
  },
  {
   "cell_type": "code",
   "execution_count": null,
   "metadata": {},
   "outputs": [],
   "source": []
  },
  {
   "cell_type": "code",
   "execution_count": null,
   "metadata": {},
   "outputs": [],
   "source": []
  },
  {
   "cell_type": "code",
   "execution_count": null,
   "metadata": {},
   "outputs": [],
   "source": []
  },
  {
   "cell_type": "code",
   "execution_count": null,
   "metadata": {},
   "outputs": [],
   "source": []
  },
  {
   "cell_type": "markdown",
   "metadata": {},
   "source": [
    "## ✏️ 5.2 Student Do: Fits and Regression \n",
    "\n",
    "# Fits and Regression\n",
    "\n",
    "This activity gives students an opportunity to use Scipy to fit data and Matplotlib to display the fit.\n",
    "\n",
    "## Instructions\n",
    "\n",
    "* Generate a scatter plot with Matplotlib using the year as the independent (*x*) variable and the violent crime rate as the dependent (*y*) variable.\n",
    "\n",
    "* Use `stats.linregress` to perform a linear regression with the year as the independent variable (*x*) and the violent crime rate as the dependent variable (*y*).\n",
    "\n",
    "* Use the information returned by `stats.linregress` to create the equation of a line from the model.\n",
    "\n",
    "* Calculate the predicted violent crime rate of the linear model using the year as the *x* values.\n",
    "\n",
    "* Plot the linear model of year versus violent crime rate on top of your scatter plot.\n",
    "\n",
    "  * **Hint**: Your scatter plot and line plot share the same axis.\n",
    "\n",
    "  * **Hint**: In order to overlay plots in a notebook, the plots must be in the same code block.\n",
    "\n",
    "* Repeat the process of generating a scatter plot, calculating the linear regression model, and plotting the regression line over the scatter plot for the following pairs of variables:\n",
    "\n",
    "  * Year versus murder rate.\n",
    "\n",
    "  * Year versus aggravated assault.\n",
    "\n",
    "## Bonus\n",
    "\n",
    "* Use `pyplot.subplots` from Matplotlib to create a new figure that displays all three pairs of variables on the same plot. For each pair of variables, there should be a scatter plot and a regression line.\n",
    "\n",
    "  * **Hint**: All three plots share the same x-axis.\n",
    "\n",
    "* Use the regression lines you created to predict what the violent crime rate, murder rate, and assault rate will be in 20*.\n",
    "\n",
    "\n",
    "## Hints\n",
    "\n",
    "* See the documentation for [stats.linregress](https://docs.scipy.org/doc/scipy-0.*.0/reference/generated/scipy.stats.linregress.html).\n",
    "\n",
    "* Recall that `stats.linregress` returns a slope, called *m*,, and a *y*-intercept, called *b*. These let you define a line for each fit by simply writing: `y-values = m * x-values + b`, for each linear regression you perform.\n",
    "\n",
    "- - -"
   ]
  },
  {
   "cell_type": "code",
   "execution_count": null,
   "metadata": {},
   "outputs": [],
   "source": [
    "# Dependencies\n",
    "from matplotlib import pyplot as plt\n",
    "from scipy import stats\n",
    "import numpy as np\n",
    "import pandas as pd"
   ]
  },
  {
   "cell_type": "code",
   "execution_count": null,
   "metadata": {},
   "outputs": [],
   "source": [
    "# Load crime data set into pandas\n",
    "crime_data = pd.read_csv(\"Resources/crime_data.csv\")"
   ]
  },
  {
   "cell_type": "code",
   "execution_count": null,
   "metadata": {},
   "outputs": [],
   "source": [
    "# Generate a scatter plot of violent crime rate versus year"
   ]
  },
  {
   "cell_type": "code",
   "execution_count": null,
   "metadata": {},
   "outputs": [],
   "source": [
    "# Perform a linear regression on violent crime rate versus year"
   ]
  },
  {
   "cell_type": "code",
   "execution_count": null,
   "metadata": {},
   "outputs": [],
   "source": [
    "# Create equation of line to calculate predicted violent crime rate"
   ]
  },
  {
   "cell_type": "code",
   "execution_count": null,
   "metadata": {},
   "outputs": [],
   "source": [
    "# Plot the linear model on top of scatter plot "
   ]
  },
  {
   "cell_type": "code",
   "execution_count": null,
   "metadata": {},
   "outputs": [],
   "source": [
    "# Repeat plotting scatter and linear model for murder rate versus year"
   ]
  },
  {
   "cell_type": "code",
   "execution_count": null,
   "metadata": {},
   "outputs": [],
   "source": [
    "# Repeat plotting scatter and linear model for aggravated assault versus year"
   ]
  },
  {
   "cell_type": "code",
   "execution_count": null,
   "metadata": {},
   "outputs": [],
   "source": [
    "# Generate a facet plot of all 3 figures"
   ]
  },
  {
   "cell_type": "code",
   "execution_count": null,
   "metadata": {},
   "outputs": [],
   "source": [
    "# Calculate the crime rates for 2019"
   ]
  },
  {
   "cell_type": "code",
   "execution_count": null,
   "metadata": {},
   "outputs": [],
   "source": []
  },
  {
   "cell_type": "code",
   "execution_count": null,
   "metadata": {},
   "outputs": [],
   "source": []
  },
  {
   "cell_type": "code",
   "execution_count": null,
   "metadata": {},
   "outputs": [],
   "source": []
  },
  {
   "cell_type": "code",
   "execution_count": null,
   "metadata": {},
   "outputs": [],
   "source": []
  },
  {
   "cell_type": "code",
   "execution_count": null,
   "metadata": {},
   "outputs": [],
   "source": []
  },
  {
   "cell_type": "markdown",
   "metadata": {},
   "source": [
    "- - -\n",
    "\n",
    " © 2019 Trilogy Education Services"
   ]
  }
 ],
 "metadata": {
  "kernelspec": {
   "display_name": "Python 3",
   "language": "python",
   "name": "python3"
  },
  "language_info": {
   "codemirror_mode": {
    "name": "ipython",
    "version": 3
   },
   "file_extension": ".py",
   "mimetype": "text/x-python",
   "name": "python",
   "nbconvert_exporter": "python",
   "pygments_lexer": "ipython3",
   "version": "3.8.3"
  }
 },
 "nbformat": 4,
 "nbformat_minor": 4
}
